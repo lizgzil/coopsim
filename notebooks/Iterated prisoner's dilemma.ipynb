{
 "cells": [
  {
   "cell_type": "code",
   "execution_count": 2,
   "metadata": {},
   "outputs": [],
   "source": [
    "import numpy as np\n",
    "import matplotlib.pyplot as plt\n",
    "from matplotlib import colors\n",
    "from numpy import random\n",
    "\n",
    "\n",
    "import matplotlib\n",
    "import matplotlib.animation as animation"
   ]
  },
  {
   "cell_type": "markdown",
   "metadata": {},
   "source": [
    "http://ped.fas.harvard.edu/files/ped/files/nature92_0.pdf\n",
    "https://www.youtube.com/watch?v=WWt3Zwj2yck\n",
    "\n",
    "- grid of coordinates (n*n)\n",
    "- each cell initially randomly C or D\n",
    "- game between all 4 neighbours in turn, add up payoffs\n",
    "- which strategy had the highest payoff of your neighbours?\n",
    "- cell turns to this strategy (could be the same, could be different)\n",
    "\n",
    "\n",
    "- Do I want continuous world?\n",
    "- Video"
   ]
  },
  {
   "cell_type": "markdown",
   "metadata": {},
   "source": [
    "### Parameters"
   ]
  },
  {
   "cell_type": "code",
   "execution_count": 4,
   "metadata": {},
   "outputs": [],
   "source": [
    "# Payoffs, t>r>p>s\n",
    "t = 1.7 # one player C one player D, D gets t\n",
    "r = 1 # both players C, they both get r\n",
    "p = 0 # both defect, both get p\n",
    "s = 0 # one player C one player D, C gets s"
   ]
  },
  {
   "cell_type": "code",
   "execution_count": 5,
   "metadata": {},
   "outputs": [],
   "source": [
    "n = 3 # length of grid"
   ]
  },
  {
   "cell_type": "code",
   "execution_count": 6,
   "metadata": {},
   "outputs": [],
   "source": [
    "# initial proportion of cooperators\n",
    "prop_c_init = 0.5"
   ]
  },
  {
   "cell_type": "code",
   "execution_count": 7,
   "metadata": {},
   "outputs": [],
   "source": [
    "rand_seed = 10 # so we use the same seed for testing"
   ]
  },
  {
   "cell_type": "markdown",
   "metadata": {},
   "source": [
    "### Initial state"
   ]
  },
  {
   "cell_type": "code",
   "execution_count": 8,
   "metadata": {},
   "outputs": [],
   "source": [
    "def make_initial_grid(n, prop_c_init):\n",
    "    # n*n matrix randomly 1 (C) or 0 (D)\n",
    "    random.seed(rand_seed)\n",
    "    grid_strat = np.random.choice([0, 1], size=(n,n), p=[1 - prop_c_init, prop_c_init])\n",
    "\n",
    "    return grid_strat"
   ]
  },
  {
   "cell_type": "markdown",
   "metadata": {},
   "source": [
    "### Play game "
   ]
  },
  {
   "cell_type": "code",
   "execution_count": 9,
   "metadata": {},
   "outputs": [],
   "source": [
    "def play_game(player_1, player_2):\n",
    "    '''\n",
    "    1 (C) or 0 (D)\n",
    "    both defect, both get p\n",
    "    one player C one player D, D gets t\n",
    "    one player C one player D, C gets s\n",
    "    both players C, they both get r   \n",
    "    '''\n",
    "    if ((player_1 == 0) & (player_2 == 0)):\n",
    "        payoff_player_1 = p\n",
    "    elif ((player_1 == 0) & (player_2 == 1)):\n",
    "        payoff_player_1 = t\n",
    "    elif ((player_1 == 1) & (player_2 == 0)):\n",
    "        payoff_player_1 = s \n",
    "    else:\n",
    "        payoff_player_1 = r\n",
    "\n",
    "    return payoff_player_1"
   ]
  },
  {
   "cell_type": "code",
   "execution_count": 10,
   "metadata": {},
   "outputs": [],
   "source": [
    "def get_neighbour_strategies(grid_strat):\n",
    "    \n",
    "    down_neighbour = np.roll(grid_strat, -1, axis=0) # down\n",
    "    up_neighbour = np.roll(grid_strat, 1, axis=0) # up\n",
    "    left_neighbour = np.roll(grid_strat, -1, axis=1) # left\n",
    "    right_neighbour = np.roll(grid_strat, 1, axis=1) # right\n",
    "    \n",
    "    return down_neighbour, up_neighbour, left_neighbour, right_neighbour"
   ]
  },
  {
   "cell_type": "code",
   "execution_count": 11,
   "metadata": {},
   "outputs": [],
   "source": [
    "def get_cell_payoff(grid_strat,\n",
    "                    down_neighbour,\n",
    "                    up_neighbour,\n",
    "                    left_neighbour,\n",
    "                    right_neighbour,\n",
    "                    row, col):\n",
    "    \n",
    "    payoff_down_cell = play_game(grid_strat[row,col], down_neighbour[row,col])\n",
    "    payoff_up_cell = play_game(grid_strat[row,col], up_neighbour[row,col])\n",
    "    payoff_left_cell = play_game(grid_strat[row,col], left_neighbour[row,col])\n",
    "    payoff_right_cell = play_game(grid_strat[row,col], right_neighbour[row,col])\n",
    "\n",
    "    payoff = payoff_down_cell + payoff_up_cell + payoff_left_cell + payoff_right_cell\n",
    "\n",
    "    return payoff"
   ]
  },
  {
   "cell_type": "code",
   "execution_count": 12,
   "metadata": {},
   "outputs": [],
   "source": [
    "def get_neighbour_payoffs(grid_payoff):\n",
    "    \n",
    "    down_neighbour_payoff = np.roll(grid_payoff, -1, axis=0) # down\n",
    "    up_neighbour_payoff = np.roll(grid_payoff, 1, axis=0) # up\n",
    "    left_neighbour_payoff = np.roll(grid_payoff, -1, axis=1) # left\n",
    "    right_neighbour_payoff = np.roll(grid_payoff, 1, axis=1) # right\n",
    "    \n",
    "    return down_neighbour_payoff, up_neighbour_payoff, left_neighbour_payoff, right_neighbour_payoff"
   ]
  },
  {
   "cell_type": "code",
   "execution_count": 13,
   "metadata": {},
   "outputs": [],
   "source": [
    "def get_strategy_change_code(old_strat, new_strat):\n",
    "    '''\n",
    "    0 = stayed as D \n",
    "    1 = stayed as C \n",
    "    2 = changed from D to C\n",
    "    3 = changed from C to D\n",
    "    '''\n",
    "    if ((old_strat == 0) & (new_strat == 0)):\n",
    "        change_code = 0\n",
    "    elif ((old_strat == 0) & (new_strat == 1)):\n",
    "        change_code = 2\n",
    "    elif ((old_strat == 1) & (new_strat == 0)):\n",
    "        change_code = 3 \n",
    "    else:\n",
    "        change_code = 1\n",
    "    return change_code"
   ]
  },
  {
   "cell_type": "code",
   "execution_count": 14,
   "metadata": {},
   "outputs": [],
   "source": [
    "def one_iteration(grid_strat, n):\n",
    "    \n",
    "    # Get the neighbour's strategies:\n",
    "\n",
    "    (down_neighbour,\n",
    "     up_neighbour,\n",
    "     left_neighbour,\n",
    "     right_neighbour) = get_neighbour_strategies(grid_strat)\n",
    "\n",
    "    # Get every cell's payoff:\n",
    "\n",
    "    for row in range(0,n):\n",
    "        for col in range(0,n):\n",
    "            grid_payoff[row, col] = get_cell_payoff(grid_strat,\n",
    "                                                    down_neighbour,\n",
    "                                                    up_neighbour,\n",
    "                                                    left_neighbour,\n",
    "                                                    right_neighbour,\n",
    "                                                    row, col)\n",
    "\n",
    "    # Get the neighbour's payoffs:\n",
    "\n",
    "    (down_neighbour_payoff,\n",
    "     up_neighbour_payoff,\n",
    "     left_neighbour_payoff,\n",
    "     right_neighbour_payoff) = get_neighbour_payoffs(grid_payoff)\n",
    "\n",
    "\n",
    "    # Consider your neighbours and change if they do better\n",
    "\n",
    "    for row in range(0,n):\n",
    "        for col in range(0,n):\n",
    "            \n",
    "            # Get previous strategy\n",
    "            old_strat = grid_strat[row, col]\n",
    "\n",
    "            # All the surrounding payoffs and your own\n",
    "            b = np.array([grid_payoff[row, col],\n",
    "                          right_neighbour_payoff[row,col], left_neighbour_payoff[row,col],\n",
    "                          up_neighbour_payoff[row,col], down_neighbour_payoff[row,col]])\n",
    "\n",
    "            # Get the index of the highest\n",
    "            best_index = np.random.choice(np.flatnonzero(b == b.max())) # if the same pick one randomly\n",
    "            \n",
    "            # Update to the strategy of this 'best' cell\n",
    "            grid_strat[row, col] = [grid_strat[row, col],\n",
    "                          right_neighbour[row,col], left_neighbour[row,col],\n",
    "                          up_neighbour[row,col], down_neighbour[row,col]][best_index]\n",
    "            \n",
    "            # Get colour matrix\n",
    "            grid_colours[row, col] = get_strategy_change_code(old_strat, grid_strat[row, col])\n",
    "    \n",
    "    return grid_strat, grid_colours"
   ]
  },
  {
   "cell_type": "code",
   "execution_count": 15,
   "metadata": {},
   "outputs": [],
   "source": [
    "def plot_grid(grid_colours, plot_size_n):\n",
    "    fig, ax = plt.subplots(figsize=(plot_size_n, plot_size_n))\n",
    "    ax.imshow(grid_colours)\n",
    "    plt.show()"
   ]
  },
  {
   "cell_type": "code",
   "execution_count": 19,
   "metadata": {},
   "outputs": [],
   "source": [
    "def plot_grid_movie(grid_colours, plot_size_n):\n",
    "    ax.imshow(grid_colours)\n",
    "    plt.show()"
   ]
  },
  {
   "cell_type": "markdown",
   "metadata": {},
   "source": [
    "### Iterate"
   ]
  },
  {
   "cell_type": "code",
   "execution_count": 109,
   "metadata": {},
   "outputs": [
    {
     "name": "stdout",
     "output_type": "stream",
     "text": [
      "4961\n"
     ]
    },
    {
     "data": {
      "image/png": "[encoded data removed]",
      "text/plain": [
       "<Figure size 360x360 with 1 Axes>"
      ]
     },
     "metadata": {
      "needs_background": "light"
     },
     "output_type": "display_data"
    },
    {
     "name": "stdout",
     "output_type": "stream",
     "text": [
      "858\n"
     ]
    },
    {
     "data": {
      "image/png": "[encoded data removed]",
      "text/plain": [
       "<Figure size 360x360 with 1 Axes>"
      ]
     },
     "metadata": {
      "needs_background": "light"
     },
     "output_type": "display_data"
    },
    {
     "name": "stdout",
     "output_type": "stream",
     "text": [
      "411\n"
     ]
    },
    {
     "data": {
      "image/png": "[encoded data removed]",
      "text/plain": [
       "<Figure size 360x360 with 1 Axes>"
      ]
     },
     "metadata": {
      "needs_background": "light"
     },
     "output_type": "display_data"
    }
   ],
   "source": [
    "n = 100\n",
    "prop_c_init = 0.5\n",
    "plot_size_n = 5\n",
    "\n",
    "grid_strat = make_initial_grid(n, prop_c_init)\n",
    "\n",
    "grid_payoff = np.empty((n,n,))\n",
    "grid_payoff[:] = np.nan\n",
    "\n",
    "grid_colours = np.empty((n,n,))\n",
    "grid_colours[:] = np.nan\n",
    "    \n",
    "eachitsave = []  \n",
    "for i in range(0,3):\n",
    "    \n",
    "    print(sum(sum(grid_strat)))\n",
    "    plot_grid(grid_strat, plot_size_n)\n",
    "\n",
    "    grid_strat, grid_colours = one_iteration(grid_strat, n)\n"
   ]
  },
  {
   "cell_type": "markdown",
   "metadata": {},
   "source": [
    "# Make into movie\n",
    "https://towardsdatascience.com/how-to-create-animated-graphs-in-python-bb619cc2dec1"
   ]
  },
  {
   "cell_type": "code",
   "execution_count": 3,
   "metadata": {},
   "outputs": [],
   "source": [
    "Writer = animation.writers['ffmpeg']\n",
    "writer = Writer(fps=20, metadata=dict(artist='Me'), bitrate=1800)"
   ]
  },
  {
   "cell_type": "code",
   "execution_count": 20,
   "metadata": {},
   "outputs": [],
   "source": [
    "def animate(i):\n",
    "    grid_strat, grid_colours = one_iteration(grid_strat, n)\n",
    "    plot_grid_movie(grid_strat, plot_size_n)\n",
    "    return grid_strat, grid_colours"
   ]
  },
  {
   "cell_type": "code",
   "execution_count": 21,
   "metadata": {},
   "outputs": [
    {
     "data": {
      "image/png": "[encoded data removed]",
      "text/plain": [
       "<Figure size 360x360 with 1 Axes>"
      ]
     },
     "metadata": {
      "needs_background": "light"
     },
     "output_type": "display_data"
    }
   ],
   "source": [
    "n = 100\n",
    "prop_c_init = 0.5\n",
    "plot_size_n = 5\n",
    "\n",
    "grid_strat = make_initial_grid(n, prop_c_init)\n",
    "\n",
    "grid_payoff = np.empty((n,n,))\n",
    "grid_payoff[:] = np.nan\n",
    "\n",
    "grid_colours = np.empty((n,n,))\n",
    "grid_colours[:] = np.nan\n",
    "\n",
    "fig, ax = plt.subplots(figsize=(plot_size_n, plot_size_n))\n",
    "\n",
    "plot_grid_movie(grid_strat, plot_size_n)\n",
    "\n",
    "ani = matplotlib.animation.FuncAnimation(fig, animate, frames=17, repeat=True)\n",
    "\n",
    "plt.show()\n"
   ]
  },
  {
   "cell_type": "code",
   "execution_count": null,
   "metadata": {},
   "outputs": [],
   "source": []
  },
  {
   "cell_type": "code",
   "execution_count": null,
   "metadata": {},
   "outputs": [],
   "source": []
  },
  {
   "cell_type": "code",
   "execution_count": null,
   "metadata": {},
   "outputs": [],
   "source": [
    "#ani.save('HeroinOverdosesJumpy.mp4', writer=writer)\n",
    "plt.show()"
   ]
  }
 ],
 "metadata": {
  "kernelspec": {
   "display_name": "Python 3",
   "language": "python",
   "name": "python3"
  },
  "language_info": {
   "codemirror_mode": {
    "name": "ipython",
    "version": 3
   },
   "file_extension": ".py",
   "mimetype": "text/x-python",
   "name": "python",
   "nbconvert_exporter": "python",
   "pygments_lexer": "ipython3",
   "version": "3.7.1"
  }
 },
 "nbformat": 4,
 "nbformat_minor": 2
}
